{
 "cells": [
  {
   "cell_type": "markdown",
   "metadata": {},
   "source": [
    "# Import"
   ]
  },
  {
   "cell_type": "code",
   "execution_count": 42,
   "metadata": {},
   "outputs": [
    {
     "name": "stdout",
     "output_type": "stream",
     "text": [
      "  type  market  period  price  promotion  advertisement  level  demand\n",
      "0    A       1       1   6300      10000          10000   1.00     104\n",
      "1    A       1       2   6400      10000          10000   1.00      85\n",
      "2    A       1       3   6400      10000          15000   1.00      92\n",
      "3    A       1       4   6500      15000          15000   1.00      82\n",
      "4    A       1       5   6500      15000          20000   1.24      91\n",
      "type              object\n",
      "market             int64\n",
      "period             int64\n",
      "price              int64\n",
      "promotion          int64\n",
      "advertisement      int64\n",
      "level            float64\n",
      "demand             int64\n",
      "dtype: object\n"
     ]
    }
   ],
   "source": [
    "import pandas as pd\n",
    "from sklearn.compose import make_column_transformer\n",
    "from sklearn.pipeline import Pipeline\n",
    "from sklearn.ensemble import *\n",
    "from sklearn.tree import *\n",
    "from sklearn.linear_model import *\n",
    "\n",
    "from sklearn.model_selection import train_test_split\n",
    "from sklearn.preprocessing import StandardScaler, OneHotEncoder,LabelEncoder\n",
    "\n",
    "df = pd.read_csv(\"data/saler_info.csv\")\n",
    "print(df.head())\n",
    "print(df.dtypes)"
   ]
  },
  {
   "cell_type": "markdown",
   "metadata": {},
   "source": [
    "# Preprocess\n",
    "\n",
    "In this part, we do a onehotencoder mainly."
   ]
  },
  {
   "cell_type": "code",
   "execution_count": 43,
   "metadata": {},
   "outputs": [
    {
     "name": "stdout",
     "output_type": "stream",
     "text": [
      "   period  price  promotion  advertisement  level  demand  type_A  type_B  \\\n",
      "0       1   6300      10000          10000   1.00     104     1.0     0.0   \n",
      "1       2   6400      10000          10000   1.00      85     1.0     0.0   \n",
      "2       3   6400      10000          15000   1.00      92     1.0     0.0   \n",
      "3       4   6500      15000          15000   1.00      82     1.0     0.0   \n",
      "4       5   6500      15000          20000   1.24      91     1.0     0.0   \n",
      "\n",
      "   type_C  type_D  market_1  market_2  market_3  market_4  \n",
      "0     0.0     0.0       1.0       0.0       0.0       0.0  \n",
      "1     0.0     0.0       1.0       0.0       0.0       0.0  \n",
      "2     0.0     0.0       1.0       0.0       0.0       0.0  \n",
      "3     0.0     0.0       1.0       0.0       0.0       0.0  \n",
      "4     0.0     0.0       1.0       0.0       0.0       0.0  \n"
     ]
    }
   ],
   "source": [
    "tree_features = ['type', 'market']\n",
    "regression_features = ['period', 'price', 'promotion', 'advertisement', 'level']\n",
    "\n",
    "def preprocess(df):\n",
    "    encoder = OneHotEncoder()\n",
    "    encoded_column = encoder.fit_transform(df[tree_features])\n",
    "    encoded_column_names = encoder.get_feature_names_out(tree_features)\n",
    "    encoded_df = pd.DataFrame(encoded_column.toarray(), columns=encoded_column_names)\n",
    "    df = df.drop(columns=tree_features)\n",
    "    df = pd.concat([df, encoded_df], axis=1)\n",
    "    return df\n",
    "    \n",
    "    \n",
    "df_processed = preprocess(df)\n",
    "print(df_processed.head())"
   ]
  },
  {
   "cell_type": "markdown",
   "metadata": {},
   "source": [
    "# Make Tranin and Test Data"
   ]
  },
  {
   "cell_type": "code",
   "execution_count": 44,
   "metadata": {},
   "outputs": [],
   "source": [
    "X = df_processed.drop('demand', axis=1)\n",
    "y = df_processed['demand']"
   ]
  },
  {
   "cell_type": "code",
   "execution_count": 45,
   "metadata": {},
   "outputs": [
    {
     "name": "stdout",
     "output_type": "stream",
     "text": [
      "Training score: 0.9944707401919897\n",
      "Test score: 0.9837878590590775\n"
     ]
    }
   ],
   "source": [
    "# Split the data into training and testing sets\n",
    "X_train, X_test, y_train, y_test = train_test_split(X, y, test_size=0.2, random_state=42)\n",
    "\n",
    "# Define the base models\n",
    "base_models = [\n",
    "   ('decision_tree', DecisionTreeRegressor(random_state=42)),\n",
    "   ('linear_regression', Ridge())\n",
    "]\n",
    "\n",
    "# Initialize StackingRegressor with the base models and a final linear regression as the final model\n",
    "stacked_model = StackingRegressor(estimators=base_models, final_estimator=LinearRegression())\n",
    "\n",
    "# Fit the model to the training data\n",
    "stacked_model.fit(X_train, y_train)\n",
    "\n",
    "# Evaluate the model\n",
    "print(f\"Training score: {stacked_model.score(X_train, y_train)}\")\n",
    "print(f\"Test score: {stacked_model.score(X_test, y_test)}\")"
   ]
  },
  {
   "cell_type": "markdown",
   "metadata": {},
   "source": [
    "# Predict"
   ]
  },
  {
   "cell_type": "code",
   "execution_count": 46,
   "metadata": {},
   "outputs": [],
   "source": [
    "def predict(filename = 'data_to_predict/saler_info.csv'\\\n",
    "    , savefilename = 'output/saler_info.csv'):\n",
    "    new_data = pd.read_csv(filename)\n",
    "    if 'demand' in new_data.columns:\n",
    "        new_data = new_data.drop('demand', axis= 1)\n",
    "    df_processed = df.drop('demand', axis=1)\n",
    "    size = df_processed.shape[0]\n",
    "    merged_data = pd.concat([new_data, df_processed], axis=0, ignore_index=True)\n",
    "    merged_data = preprocess(merged_data)\n",
    "    merged_data = merged_data.drop(merged_data.index[-size:])\n",
    "    predictions = stacked_model.predict(merged_data)\n",
    "    new_data['demand'] = predictions\n",
    "    new_data.to_csv(savefilename, index=False)\n",
    "    \n",
    "predict()"
   ]
  }
 ],
 "metadata": {
  "kernelspec": {
   "display_name": "base",
   "language": "python",
   "name": "python3"
  },
  "language_info": {
   "codemirror_mode": {
    "name": "ipython",
    "version": 3
   },
   "file_extension": ".py",
   "mimetype": "text/x-python",
   "name": "python",
   "nbconvert_exporter": "python",
   "pygments_lexer": "ipython3",
   "version": "3.11.5"
  }
 },
 "nbformat": 4,
 "nbformat_minor": 2
}
